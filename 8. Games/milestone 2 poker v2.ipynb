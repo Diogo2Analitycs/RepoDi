{
 "cells": [
  {
   "cell_type": "markdown",
   "metadata": {},
   "source": [
    "___\n",
    "\n",
    "<a href='https://www.udemy.com/user/joseportilla/'><img src='../Pierian_Data_Logo.png'/></a>\n",
    "___\n",
    "<center><em>Content Copyright by Pierian Data</em></center>"
   ]
  },
  {
   "cell_type": "markdown",
   "metadata": {
    "collapsed": true
   },
   "source": [
    "# Milestone Project 2 - Walkthrough Steps Workbook\n",
    "Below is a set of steps for you to follow to try to create the Blackjack Milestone Project game!"
   ]
  },
  {
   "cell_type": "markdown",
   "metadata": {},
   "source": [
    "## Game Play\n",
    "To play a hand of Blackjack the following steps must be followed:\n",
    "1. Create a deck of 52 cards\n",
    "2. Shuffle the deck\n",
    "3. Ask the Player for their bet\n",
    "4. Make sure that the Player's bet does not exceed their available chips\n",
    "5. Deal two cards to the Dealer and two cards to the Player\n",
    "6. Show only one of the Dealer's cards, the other remains hidden\n",
    "7. Show both of the Player's cards\n",
    "8. Ask the Player if they wish to Hit, and take another card\n",
    "9. If the Player's hand doesn't Bust (go over 21), ask if they'd like to Hit again.\n",
    "10. If a Player Stands, play the Dealer's hand. The dealer will always Hit until the Dealer's value meets or exceeds 17\n",
    "11. Determine the winner and adjust the Player's chips accordingly\n",
    "12. Ask the Player if they'd like to play again"
   ]
  },
  {
   "cell_type": "markdown",
   "metadata": {},
   "source": [
    "## Playing Cards\n",
    "A standard deck of playing cards has four suits (Hearts, Diamonds, Spades and Clubs) and thirteen ranks (2 through 10, then the face cards Jack, Queen, King and Ace) for a total of 52 cards per deck. Jacks, Queens and Kings all have a rank of 10. Aces have a rank of either 11 or 1 as needed to reach 21 without busting. As a starting point in your program, you may want to assign variables to store a list of suits, ranks, and then use a dictionary to map ranks to values."
   ]
  },
  {
   "cell_type": "markdown",
   "metadata": {},
   "source": [
    "## The Game\n",
    "### Imports and Global Variables\n",
    "** Step 1: Import the random module. This will be used to shuffle the deck prior to dealing. Then, declare variables to store suits, ranks and values. You can develop your own system, or copy ours below. Finally, declare a Boolean value to be used to control <code>while</code> loops. This is a common practice used to control the flow of the game.**\n",
    "\n",
    "    suits = ('Hearts', 'Diamonds', 'Spades', 'Clubs')\n",
    "    ranks = ('Two', 'Three', 'Four', 'Five', 'Six', 'Seven', 'Eight', 'Nine', 'Ten', 'Jack', 'Queen', 'King', 'Ace')\n",
    "    values = {'Two':2, 'Three':3, 'Four':4, 'Five':5, 'Six':6, 'Seven':7, 'Eight':8, 'Nine':9, 'Ten':10, 'Jack':10,\n",
    "             'Queen':10, 'King':10, 'Ace':11}"
   ]
  },
  {
   "cell_type": "code",
   "execution_count": 20,
   "metadata": {
    "collapsed": true
   },
   "outputs": [],
   "source": [
    "import random\n",
    "\n",
    "suits = ('Hearts', 'Diamonds', 'Spades', 'Clubs')\n",
    "ranks = ('Two', 'Three', 'Four', 'Five', 'Six', 'Seven', 'Eight', 'Nine', 'Ten', 'Jack', 'Queen', 'King', 'Ace')\n",
    "values = {'Two':2, 'Three':3, 'Four':4, 'Five':5, 'Six':6, 'Seven':7, 'Eight':8, 'Nine':9, 'Ten':10, 'Jack':10,\n",
    "         'Queen':10, 'King':10, 'Ace':11}\n",
    "\n",
    "playing = True"
   ]
  },
  {
   "cell_type": "markdown",
   "metadata": {},
   "source": [
    "### Class Definitions\n",
    "Consider making a Card class where each Card object has a suit and a rank, then a Deck class to hold all 52 Card objects, and can be shuffled, and finally a Hand class that holds those Cards that have been dealt to each player from the Deck."
   ]
  },
  {
   "cell_type": "markdown",
   "metadata": {},
   "source": [
    "**Step 2: Create a Card Class**<br>\n",
    "A Card object really only needs two attributes: suit and rank. You might add an attribute for \"value\" - we chose to handle value later when developing our Hand class.<br>In addition to the Card's \\_\\_init\\_\\_ method, consider adding a \\_\\_str\\_\\_ method that, when asked to print a Card, returns a string in the form \"Two of Hearts\""
   ]
  },
  {
   "cell_type": "code",
   "execution_count": 21,
   "metadata": {
    "collapsed": true
   },
   "outputs": [],
   "source": [
    "class Card:\n",
    "    \n",
    "    def __init__(self,suit,rank):\n",
    "        self.suit = suit\n",
    "        self.rank =  rank\n",
    "        self.value = values[rank]\n",
    "\n",
    "        # if rank = ace then value :\n",
    "        #   sum(card_players) + 11 > 21 :\n",
    "        #    ace value = 1\n",
    "        # else:\n",
    "        #      ace value = 11\n",
    "    \n",
    "    def __str__(self):\n",
    "        return self.suit + \" of \" + self.rank"
   ]
  },
  {
   "cell_type": "markdown",
   "metadata": {},
   "source": [
    "**Step 3: Create a Deck Class**<br>\n",
    "Here we might store 52 card objects in a list that can later be shuffled. First, though, we need to *instantiate* all 52 unique card objects and add them to our list. So long as the Card class definition appears in our code, we can build Card objects inside our Deck \\_\\_init\\_\\_ method. Consider iterating over sequences of suits and ranks to build out each card. This might appear inside a Deck class \\_\\_init\\_\\_ method:\n",
    "\n",
    "    for suit in suits:\n",
    "        for rank in ranks:\n",
    "\n",
    "In addition to an \\_\\_init\\_\\_ method we'll want to add methods to shuffle our deck, and to deal out cards during gameplay.<br><br>\n",
    "OPTIONAL: We may never need to print the contents of the deck during gameplay, but having the ability to see the cards inside it may help troubleshoot any problems that occur during development. With this in mind, consider adding a \\_\\_str\\_\\_ method to the class definition."
   ]
  },
  {
   "cell_type": "code",
   "execution_count": 23,
   "metadata": {
    "collapsed": true
   },
   "outputs": [],
   "source": [
    "class Deck:\n",
    "    \n",
    "    def __init__(self):\n",
    "        self.deck = []  # start with an empty list\n",
    "        for suit in suits:\n",
    "            for rank in ranks:\n",
    "                self.deck.append(Card(suit,rank))\n",
    "    \n",
    "    def __str__(self):\n",
    "        #return f\"Deck has {len(self.deck)} Cards\"\n",
    "        deck_composition = \"\"\n",
    "        for card in self.deck:\n",
    "            deck_composition += \"\\n\"+ card.__str__()\n",
    "        return \"the deck has:\" + deck_composition\n",
    "\n",
    "\n",
    "    def shuffle(self):\n",
    "        random.shuffle(self.deck)\n",
    "        \n",
    "    def deal(self):\n",
    "        single_card = self.deck.pop() \n",
    "        return single_card"
   ]
  },
  {
   "cell_type": "code",
   "execution_count": null,
   "metadata": {},
   "outputs": [],
   "source": []
  },
  {
   "cell_type": "markdown",
   "metadata": {},
   "source": [
    "TESTING: Just to see that everything works so far, let's see what our Deck looks like!"
   ]
  },
  {
   "cell_type": "markdown",
   "metadata": {},
   "source": [
    "Great! Now let's move on to our Hand class."
   ]
  },
  {
   "cell_type": "markdown",
   "metadata": {},
   "source": [
    "**Step 4: Create a Hand Class**<br>\n",
    "In addition to holding Card objects dealt from the Deck, the Hand class may be used to calculate the value of those cards using the values dictionary defined above. It may also need to adjust for the value of Aces when appropriate."
   ]
  },
  {
   "cell_type": "code",
   "execution_count": 26,
   "metadata": {},
   "outputs": [],
   "source": [
    "class Hand:\n",
    "    \n",
    "    def __init__(self):\n",
    "        self.cards = []  # start with an empty list as we did in the Deck class\n",
    "        self.value = 0   # start with zero value\n",
    "        self.aces = 0    # add an attribute to keep track of aces\n",
    "        self.aces_value = 0\n",
    "\n",
    "    def add_card(self,card): \n",
    "        self.cards.append(card)\n",
    "        self.value += values[card.rank]\n",
    "\n",
    "        if card.rank == \"Ace\":\n",
    "            self.aces += 1\n",
    "\n",
    "    def adjust_for_ace(self):\n",
    "        while self.value > 21 and self.aces:\n",
    "            self.value -= 10\n",
    "            self.aces -= 1\n",
    "            \n",
    "        \n",
    "                "
   ]
  },
  {
   "cell_type": "code",
   "execution_count": 141,
   "metadata": {},
   "outputs": [
    {
     "name": "stdout",
     "output_type": "stream",
     "text": [
      "Spades of Nine Hearts of Nine\n"
     ]
    }
   ],
   "source": [
    "francisco = Hand()\r\n",
    "\r\n",
    "for n in range(2):\r\n",
    "    francisco.add_card(test_deck.deal())\r\n",
    "print(francisco.cards[0],francisco.cards[1])\r\n"
   ]
  },
  {
   "cell_type": "markdown",
   "metadata": {},
   "source": [
    "**Step 5: Create a Chips Class**<br>\n",
    "In addition to decks of cards and hands, we need to keep track of a Player's starting chips, bets, and ongoing winnings. This could be done using global variables, but in the spirit of object oriented programming, let's make a Chips class instead!"
   ]
  },
  {
   "cell_type": "code",
   "execution_count": 28,
   "metadata": {
    "collapsed": true
   },
   "outputs": [],
   "source": [
    "class Chips:\n",
    "    \n",
    "    def __init__(self):\n",
    "        self.total = 100  # This can be set to a default value or supplied by a user input\n",
    "        self.bet = 0\n",
    "        \n",
    "    def win_bet(self):\n",
    "        self.total += self.bet\n",
    "        pass\n",
    "    \n",
    "    def lose_bet(self):\n",
    "        self.total -= self.bet\n",
    "        pass"
   ]
  },
  {
   "cell_type": "markdown",
   "metadata": {},
   "source": [
    "### Function Defintions\n",
    "A lot of steps are going to be repetitive. That's where functions come in! The following steps are guidelines - add or remove functions as needed in your own program."
   ]
  },
  {
   "cell_type": "markdown",
   "metadata": {},
   "source": [
    "**Step 6: Write a function for taking bets**<br>\n",
    "Since we're asking the user for an integer value, this would be a good place to use <code>try</code>/<code>except</code>. Remember to check that a Player's bet can be covered by their available chips."
   ]
  },
  {
   "cell_type": "code",
   "execution_count": 159,
   "metadata": {
    "collapsed": true
   },
   "outputs": [],
   "source": [
    "def take_bet(chips):\r\n",
    "    \r\n",
    "    while True:\r\n",
    "        try:\r\n",
    "            chips.bet = int(input('How many chips would you like to bet?'))\r\n",
    "        except :\r\n",
    "            print('Sorry, a bet must be an integer!')\r\n",
    "        else:\r\n",
    "            if chips.bet > chips.total:\r\n",
    "                print(\"Sorry, your bet can't exceed\",chips.total)\r\n",
    "            else:\r\n",
    "                break"
   ]
  },
  {
   "cell_type": "markdown",
   "metadata": {},
   "source": [
    "**Step 7: Write a function for taking hits**<br>\n",
    "Either player can take hits until they bust. This function will be called during gameplay anytime a Player requests a hit, or a Dealer's hand is less than 17. It should take in Deck and Hand objects as arguments, and deal one card off the deck and add it to the Hand. You may want it to check for aces in the event that a player's hand exceeds 21."
   ]
  },
  {
   "cell_type": "code",
   "execution_count": 45,
   "metadata": {
    "collapsed": true
   },
   "outputs": [],
   "source": [
    "def hit(deck,hand):\r\n",
    "   \r\n",
    "   single_card = deck.deal()\r\n",
    "   hand.add_card(single_card)\r\n",
    "   hand.adjust_for_ace()\r\n",
    "   "
   ]
  },
  {
   "cell_type": "markdown",
   "metadata": {},
   "source": [
    "**Step 8: Write a function prompting the Player to Hit or Stand**<br>\n",
    "This function should accept the deck and the player's hand as arguments, and assign playing as a global variable.<br>\n",
    "If the Player Hits, employ the hit() function above. If the Player Stands, set the playing variable to False - this will control the behavior of a <code>while</code> loop later on in our code."
   ]
  },
  {
   "cell_type": "code",
   "execution_count": 176,
   "metadata": {
    "collapsed": true
   },
   "outputs": [],
   "source": [
    "def hit_or_stand(deck,hand):\r\n",
    "    global playing  # to control an upcoming while loop\r\n",
    "\r\n",
    "    while True:\r\n",
    "        x = input(\"Hit or Stand (H/S)\")\r\n",
    "        if x == \"H\":\r\n",
    "            hit(deck,hand)\r\n",
    "        elif x == \"S\":\r\n",
    "            playing = False\r\n",
    "        else:\r\n",
    "            print(\"Needs to be H or S\")\r\n",
    "            continue\r\n",
    "        break\r\n"
   ]
  },
  {
   "cell_type": "markdown",
   "metadata": {},
   "source": [
    "**Step 9: Write functions to display cards**<br>\n",
    "When the game starts, and after each time Player takes a card, the dealer's first card is hidden and all of Player's cards are visible. At the end of the hand all cards are shown, and you may want to show each hand's total value. Write a function for each of these scenarios."
   ]
  },
  {
   "cell_type": "code",
   "execution_count": 102,
   "metadata": {},
   "outputs": [
    {
     "name": "stdout",
     "output_type": "stream",
     "text": [
      "Spades of Seven 7\n",
      "Hearts of Ten 10\n",
      "---\n",
      "Total value of 17\n",
      "10\n"
     ]
    }
   ],
   "source": [
    "for card in João_mão.cards:\r\n",
    "    print(card,card.value)\r\n",
    "print(\"---\")\r\n",
    "print(f\"Total value of {João_mão.value}\")\r\n",
    "print(João_mão.cards[1].value)"
   ]
  },
  {
   "cell_type": "code",
   "execution_count": 114,
   "metadata": {},
   "outputs": [
    {
     "ename": "AttributeError",
     "evalue": "'list' object has no attribute 'value'",
     "output_type": "error",
     "traceback": [
      "\u001b[1;31m---------------------------------------------------------------------------\u001b[0m",
      "\u001b[1;31mAttributeError\u001b[0m                            Traceback (most recent call last)",
      "\u001b[1;32m<ipython-input-114-2cc95693fef5>\u001b[0m in \u001b[0;36m<module>\u001b[1;34m\u001b[0m\n\u001b[1;32m----> 1\u001b[1;33m \u001b[0mJoão_mão\u001b[0m\u001b[1;33m.\u001b[0m\u001b[0mcards\u001b[0m\u001b[1;33m.\u001b[0m\u001b[0mvalue\u001b[0m\u001b[1;33m\u001b[0m\u001b[1;33m\u001b[0m\u001b[0m\n\u001b[0m",
      "\u001b[1;31mAttributeError\u001b[0m: 'list' object has no attribute 'value'"
     ]
    }
   ],
   "source": [
    "João_mão.cards.value"
   ]
  },
  {
   "cell_type": "code",
   "execution_count": 118,
   "metadata": {},
   "outputs": [
    {
     "name": "stdout",
     "output_type": "stream",
     "text": [
      "Spades of Seven 7\n",
      "Hearts of Ten 10\n",
      "\n",
      "Total value of 17\n",
      "\\\\\n",
      "\\\\\n",
      "Spades of Seven 7\n",
      "Hearts of Ten 10\n",
      "\n",
      "Total value of 17\n"
     ]
    }
   ],
   "source": [
    "show_all(João_mão,João_mão)"
   ]
  },
  {
   "cell_type": "code",
   "execution_count": 129,
   "metadata": {},
   "outputs": [
    {
     "name": "stdout",
     "output_type": "stream",
     "text": [
      "João_mão.cards: \n",
      "Spades of Seven\n",
      "Hearts of Ten\n"
     ]
    }
   ],
   "source": [
    "print(\"João_mão.cards: \",*João_mão.cards,sep=\"\\n\")"
   ]
  },
  {
   "cell_type": "code",
   "execution_count": 165,
   "metadata": {
    "collapsed": true
   },
   "outputs": [],
   "source": [
    "def show_some(player,dealer):\r\n",
    "    \r\n",
    "    print(\"----------------------------------------------------\")\r\n",
    "    print(\"---Player----\")\r\n",
    "    print(\"Your cards are: \",*player.cards,sep=\" \\n\")\r\n",
    "    print(\"\")\r\n",
    "    print(f\"TOTAL VALUE : {player.value}\")\r\n",
    "\r\n",
    "    print(\"\")\r\n",
    "    print(\"---Dealer----\")\r\n",
    "    print(\"Dealer cards are:\")\r\n",
    "    print(\"hidden_card\")\r\n",
    "    print(dealer.cards[1],dealer.cards[1].value )\r\n",
    "    print(\"\")\r\n",
    "    print(f\"TOTAL VALUE : {dealer.cards[1].value}\")\r\n",
    "    \r\n",
    "    pass\r\n",
    "    \r\n",
    "def show_all(player,dealer):\r\n",
    "\r\n",
    "    print(\"----------------------------------------------------\")\r\n",
    "    print(\"---Player----\")\r\n",
    "    print(\"Your cards are: \",*player.cards,sep=\" \\n\")\r\n",
    "    print(\"\")\r\n",
    "    print(f\"TOTAL VALUE : {player.value}\")\r\n",
    "\r\n",
    "    print(\"\")\r\n",
    "    print(\"---Dealer----\")\r\n",
    "    print(\"Dealer cards are:\")\r\n",
    "    for card in dealer.cards:\r\n",
    "        print(card)\r\n",
    "    print(\"\")\r\n",
    "    print(f\"Total value of {dealer.value}\")\r\n",
    "    \r\n",
    "    pass"
   ]
  },
  {
   "cell_type": "markdown",
   "metadata": {},
   "source": [
    "**Step 10: Write functions to handle end of game scenarios**<br>\n",
    "Remember to pass player's hand, dealer's hand and chips as needed."
   ]
  },
  {
   "cell_type": "code",
   "execution_count": 130,
   "metadata": {},
   "outputs": [
    {
     "data": {
      "text/plain": [
       "<__main__.Chips at 0x2aab1338b80>"
      ]
     },
     "execution_count": 130,
     "metadata": {},
     "output_type": "execute_result"
    }
   ],
   "source": [
    "fichas = Chips()\r\n",
    "\r\n",
    "fichas.win_bet()"
   ]
  },
  {
   "cell_type": "code",
   "execution_count": 166,
   "metadata": {
    "collapsed": true
   },
   "outputs": [],
   "source": [
    "def player_busts(player,dealer,chips):\r\n",
    "    print(\"Player Bust\")\r\n",
    "    chips.lose_bet()\r\n",
    "\r\n",
    "\r\n",
    "def player_wins(player,dealer,chips):\r\n",
    "    print(\"Player Wins\")\r\n",
    "    chips.win_bet()\r\n",
    "\r\n",
    "def dealer_busts(player,dealer,chips):\r\n",
    "    print(\"Dealer Bust\")\r\n",
    "    chips.win_bet()\r\n",
    "    \r\n",
    "def dealer_wins(player,dealer,chips):\r\n",
    "    print(\"Dealer Wins\")\r\n",
    "    chips.lose_bet()\r\n",
    "    \r\n",
    "def push(player,dealer):\r\n",
    "    print(\"dealer and player tie , PUSH!\")"
   ]
  },
  {
   "cell_type": "markdown",
   "metadata": {},
   "source": [
    "### And now on to the game!!"
   ]
  },
  {
   "cell_type": "code",
   "execution_count": 179,
   "metadata": {
    "collapsed": true
   },
   "outputs": [
    {
     "name": "stdout",
     "output_type": "stream",
     "text": [
      "Let the Games Begin\n",
      "----------------------------------------------------\n",
      "---Player----\n",
      "Your cards are:  \n",
      "Clubs of Ace \n",
      "Diamonds of Queen\n",
      "\n",
      "TOTAL VALUE : 21\n",
      "\n",
      "---Dealer----\n",
      "Dealer cards are:\n",
      "hidden_card\n",
      "Spades of King 10\n",
      "\n",
      "TOTAL VALUE : 10\n",
      "\n",
      "---Chips---\n",
      "You have 100 Chips\n",
      "----------------------------------------------------\n",
      "---Player----\n",
      "Your cards are:  \n",
      "Clubs of Ace \n",
      "Diamonds of Queen\n",
      "\n",
      "TOTAL VALUE : 21\n",
      "\n",
      "---Dealer----\n",
      "Dealer cards are:\n",
      "hidden_card\n",
      "Spades of King 10\n",
      "\n",
      "TOTAL VALUE : 10\n",
      "----------------------------------------------------\n",
      "---Player----\n",
      "Your cards are:  \n",
      "Clubs of Ace \n",
      "Diamonds of Queen\n",
      "\n",
      "TOTAL VALUE : 21\n",
      "\n",
      "---Dealer----\n",
      "Dealer cards are:\n",
      "hidden_card\n",
      "Spades of King 10\n",
      "\n",
      "TOTAL VALUE : 10\n",
      "----------------------------------------------------\n",
      "---Player----\n",
      "Your cards are:  \n",
      "Clubs of Ace \n",
      "Diamonds of Queen\n",
      "\n",
      "TOTAL VALUE : 21\n",
      "\n",
      "---Dealer----\n",
      "Dealer cards are:\n",
      "Hearts of Jack\n",
      "Spades of King\n",
      "\n",
      "Total value of 20\n",
      "%%%%%%% PLAYER WINS %%%%%%%%%%%\n",
      "Player Wins\n",
      "-------- Your Chips -------\n",
      "150\n",
      "Let the Games Begin\n",
      "----------------------------------------------------\n",
      "---Player----\n",
      "Your cards are:  \n",
      "Hearts of King \n",
      "Hearts of Two\n",
      "\n",
      "TOTAL VALUE : 12\n",
      "\n",
      "---Dealer----\n",
      "Dealer cards are:\n",
      "hidden_card\n",
      "Diamonds of Nine 9\n",
      "\n",
      "TOTAL VALUE : 9\n",
      "\n",
      "---Chips---\n",
      "You have 100 Chips\n",
      "Sorry, a bet must be an integer!\n",
      "Sorry, a bet must be an integer!\n",
      "Sorry, a bet must be an integer!\n",
      "----------------------------------------------------\n",
      "---Player----\n",
      "Your cards are:  \n",
      "Hearts of King \n",
      "Hearts of Two\n",
      "\n",
      "TOTAL VALUE : 12\n",
      "\n",
      "---Dealer----\n",
      "Dealer cards are:\n",
      "hidden_card\n",
      "Diamonds of Nine 9\n",
      "\n",
      "TOTAL VALUE : 9\n",
      "Needs to be H or S\n",
      "----------------------------------------------------\n",
      "---Player----\n",
      "Your cards are:  \n",
      "Hearts of King \n",
      "Hearts of Two\n",
      "\n",
      "TOTAL VALUE : 12\n",
      "\n",
      "---Dealer----\n",
      "Dealer cards are:\n",
      "hidden_card\n",
      "Diamonds of Nine 9\n",
      "\n",
      "TOTAL VALUE : 9\n",
      "----------------------------------------------------\n",
      "---Player----\n",
      "Your cards are:  \n",
      "Hearts of King \n",
      "Hearts of Two\n",
      "\n",
      "TOTAL VALUE : 12\n",
      "\n",
      "---Dealer----\n",
      "Dealer cards are:\n",
      "Hearts of Seven\n",
      "Diamonds of Nine\n",
      "Diamonds of Ace\n",
      "\n",
      "Total value of 17\n",
      "%%%%%%% PLAYER Loses %%%%%%%%%%%\n",
      "Player Bust\n",
      "-------- Your Chips -------\n",
      "93\n",
      "Cya Then\n"
     ]
    }
   ],
   "source": [
    "while True:\r\n",
    "    # Print an opening statement\r\n",
    "    print(\"Let the Games Begin\")\r\n",
    "\r\n",
    "    \r\n",
    "    # Create & shuffle the deck, deal two cards to each player\r\n",
    "    deck = Deck()\r\n",
    "    deck.shuffle()\r\n",
    "\r\n",
    "    Player = Hand()\r\n",
    "    Dealer = Hand()\r\n",
    "\r\n",
    "    for n in range(2):\r\n",
    "        Player.add_card(deck.deal())\r\n",
    "    \r\n",
    "    for n in range(2):\r\n",
    "        Dealer.add_card(deck.deal())\r\n",
    "\r\n",
    "    show_some(Player,Dealer)\r\n",
    "        \r\n",
    "    # Set up the Player's chips\r\n",
    "\r\n",
    "    player_chips = Chips()\r\n",
    "\r\n",
    "    print(\"\")\r\n",
    "    print(\"---Chips---\")\r\n",
    "    print(\"You have 100 Chips\")\r\n",
    "    \r\n",
    "    # Prompt the Player for their bet\r\n",
    "    take_bet(player_chips)\r\n",
    "    \r\n",
    "    # Show cards (but keep one dealer card hidden)\r\n",
    "    show_some(Player,Dealer)\r\n",
    "    playing = True\r\n",
    "    \r\n",
    "    while playing:  # recall this variable from our hit_or_stand function\r\n",
    "        \r\n",
    "        # Prompt for Player to Hit or Stand\r\n",
    "        hit_or_stand(deck,Player)\r\n",
    "        \r\n",
    "        # Show cards (but keep one dealer card hidden)\r\n",
    "        show_some(Player,Dealer)\r\n",
    "        \r\n",
    "        # If player's hand exceeds 21, run player_busts() and break out of loop\r\n",
    "        if Player.value > 21:\r\n",
    "            player_busts(Player,Dealer,player_chips)\r\n",
    "            break\r\n",
    "\r\n",
    "    # If Player hasn't busted, play Dealer's hand until Dealer reaches 17\r\n",
    "    \r\n",
    "    if Dealer.value <= 21:\r\n",
    "\r\n",
    "        while Dealer.value < 17:\r\n",
    "            hit(deck,Dealer)\r\n",
    "    \r\n",
    "        # Show all cards\r\n",
    "        show_all(Player,Dealer)\r\n",
    "\r\n",
    "        # Run different winning scenarios\r\n",
    "        if Dealer.value > 21:\r\n",
    "            print(\"%%%%%%% PLAYER WINS %%%%%%%%%%%\")\r\n",
    "            player_wins(Player,Dealer,player_chips)\r\n",
    "\r\n",
    "        elif Player.value < Dealer.value:\r\n",
    "            print(\"%%%%%%% PLAYER Loses %%%%%%%%%%%\")\r\n",
    "            player_busts(Player,Dealer,player_chips)\r\n",
    "\r\n",
    "        elif Player.value > Dealer.value:\r\n",
    "            print(\"%%%%%%% PLAYER WINS %%%%%%%%%%%\")\r\n",
    "            player_wins(Player,Dealer,player_chips)\r\n",
    "\r\n",
    "        else:\r\n",
    "            print(\"%%%%%%% TIE %%%%%%%%%%%\")\r\n",
    "            push(Player,Dealer)\r\n",
    "\r\n",
    "        \r\n",
    "    \r\n",
    "    # Inform Player of their chips total \r\n",
    "    print(\"-------- Your Chips -------\")\r\n",
    "    print(player_chips.total)\r\n",
    "    \r\n",
    "    # Ask to play again\r\n",
    "    new_game = input(\"Wanna play one more? (Y/N)\")\r\n",
    "\r\n",
    "    if new_game == \"Y\":\r\n",
    "        Playing = True\r\n",
    "        continue\r\n",
    "    else:\r\n",
    "        print(\"Cya Then\")\r\n",
    "        break"
   ]
  },
  {
   "cell_type": "code",
   "execution_count": null,
   "metadata": {},
   "outputs": [],
   "source": []
  }
 ],
 "metadata": {
  "interpreter": {
   "hash": "b0f97e9baafc0013a01ac34987f5c931a72a1e257e7bf46e9ed2219078c3e6e7"
  },
  "kernelspec": {
   "display_name": "Python 3.9.2 64-bit",
   "name": "python3"
  },
  "language_info": {
   "codemirror_mode": {
    "name": "ipython",
    "version": 3
   },
   "file_extension": ".py",
   "mimetype": "text/x-python",
   "name": "python",
   "nbconvert_exporter": "python",
   "pygments_lexer": "ipython3",
   "version": "3.9.2"
  }
 },
 "nbformat": 4,
 "nbformat_minor": 1
}