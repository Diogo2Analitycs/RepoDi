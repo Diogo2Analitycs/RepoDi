{
 "metadata": {
  "language_info": {
   "codemirror_mode": {
    "name": "ipython",
    "version": 3
   },
   "file_extension": ".py",
   "mimetype": "text/x-python",
   "name": "python",
   "nbconvert_exporter": "python",
   "pygments_lexer": "ipython3",
   "version": "3.7.6"
  },
  "orig_nbformat": 4,
  "kernelspec": {
   "name": "python3",
   "display_name": "Python 3.7.6 64-bit ('Diogo Martins': virtualenv)"
  },
  "interpreter": {
   "hash": "6a2dc1547a5b7de0570cc0f86d4f38b63e9c1467fc18e68fa84315426413fdce"
  }
 },
 "nbformat": 4,
 "nbformat_minor": 2,
 "cells": [
  {
   "cell_type": "code",
   "execution_count": 85,
   "metadata": {},
   "outputs": [],
   "source": [
    "import random\n",
    "\n",
    "suits = ('Hearts', 'Diamonds', 'Spades', 'Clubs')\n",
    "ranks = ('Two', 'Three', 'Four', 'Five', 'Six', 'Seven', 'Eight', 'Nine', 'Ten', 'Jack', 'Queen', 'King', 'Ace')\n",
    "values = {'Two':2, 'Three':3, 'Four':4, 'Five':5, 'Six':6, 'Seven':7, 'Eight':8, \n",
    "            'Nine':9, 'Ten':10, 'Jack':11, 'Queen':12, 'King':13, 'Ace':14}\n",
    "\n"
   ]
  },
  {
   "cell_type": "code",
   "execution_count": 86,
   "metadata": {},
   "outputs": [],
   "source": [
    "class Card:\n",
    "\n",
    "    def __init__(self,suit,rank):\n",
    "        self.suit = suit\n",
    "        self.rank = rank\n",
    "        self.value = values[rank]\n",
    "\n",
    "    def __str__(self):\n",
    "        return self.rank + \" of \" + self.suit\n",
    "\n"
   ]
  },
  {
   "cell_type": "code",
   "execution_count": 87,
   "metadata": {},
   "outputs": [],
   "source": [
    "class Deck:\n",
    "\n",
    "    def __init__(self):\n",
    "\n",
    "        self.all_cards = []\n",
    "   \n",
    "        for suit in suits:\n",
    "            for rank in ranks:\n",
    "                created_card = Card(suit,rank)\n",
    "                self.all_cards.append(created_card)\n",
    "                \n",
    "\n",
    "    def shuffle(self):\n",
    "        random.shuffle(self.all_cards)\n",
    "\n",
    "    def deal_one(self):\n",
    "        return self.all_cards.pop()\n"
   ]
  },
  {
   "cell_type": "code",
   "execution_count": 88,
   "metadata": {},
   "outputs": [],
   "source": [
    "class Player:\n",
    "\n",
    "    def __init__(self,name):\n",
    "\n",
    "        self.name = name\n",
    "        self.all_cards = []\n",
    "\n",
    "    def remove_one(self):\n",
    "        return self.all_cards.pop(0)\n",
    "        pass\n",
    "\n",
    "    def add_cards(self,new_cards):\n",
    "        if type(new_cards) == type([]):\n",
    "            self.all_cards.extend(new_cards)\n",
    "        else:\n",
    "            self.all_cards.append(new_cards)\n",
    "        pass    \n",
    "\n",
    "    def __str__(self):\n",
    "        return f\"Player {self.name} has {len(self.all_cards)} cards.\""
   ]
  },
  {
   "cell_type": "code",
   "execution_count": 97,
   "metadata": {},
   "outputs": [],
   "source": [
    "# game setup\n",
    "\n",
    "player_one = Player(\"One\")\n",
    "player_two = Player(\"Two\")\n",
    "\n",
    "new_deck = Deck()\n",
    "new_deck.shuffle()\n",
    "\n",
    "for n in range(26):\n",
    "    player_one.add_cards(new_deck.deal_one())\n",
    "    player_two.add_cards(new_deck.deal_one())\n",
    "\n",
    "game_on = True"
   ]
  },
  {
   "cell_type": "code",
   "execution_count": 98,
   "metadata": {
    "tags": []
   },
   "outputs": [
    {
     "output_type": "stream",
     "name": "stdout",
     "text": [
      "Round 1\nRound 2\nRound 3\nRound 4\nRound 5\nRound 6\nRound 7\nRound 8\nRound 9\nRound 10\nRound 11\nRound 12\nRound 13\nRound 14\nRound 15\nRound 16\nRound 17\nRound 18\nRound 19\nRound 20\nRound 21\nRound 22\nRound 23\nWAR!\nRound 24\nRound 25\nRound 26\nRound 27\nRound 28\nRound 29\nRound 30\nRound 31\nRound 32\nRound 33\nRound 34\nRound 35\nRound 36\nRound 37\nRound 38\nRound 39\nRound 40\nRound 41\nRound 42\nRound 43\nRound 44\nRound 45\nRound 46\nRound 47\nWAR!\nRound 48\nRound 49\nRound 50\nRound 51\nRound 52\nRound 53\nRound 54\nRound 55\nRound 56\nRound 57\nRound 58\nRound 59\nRound 60\nRound 61\nRound 62\nRound 63\nRound 64\nRound 65\nRound 66\nRound 67\nRound 68\nRound 69\nRound 70\nRound 71\nRound 72\nRound 73\nRound 74\nRound 75\nRound 76\nRound 77\nWAR!\nRound 78\nRound 79\nRound 80\nRound 81\nRound 82\nRound 83\nRound 84\nRound 85\nRound 86\nRound 87\nRound 88\nRound 89\nRound 90\nRound 91\nRound 92\nRound 93\nRound 94\nWAR!\nRound 95\nRound 96\nRound 97\nRound 98\nRound 99\nRound 100\nRound 101\nRound 102\nRound 103\nWAR!\nRound 104\nPlayer One, out of cards ! Player Two Wins\n"
     ]
    }
   ],
   "source": [
    "round_num = 0\n",
    "\n",
    "while game_on:\n",
    "    round_num += 1\n",
    "    print(f\"Round {round_num}\")\n",
    "\n",
    "    if len(player_one.all_cards) == 0:\n",
    "        print(\"Player One, out of cards ! Player Two Wins\")\n",
    "        game_on = False\n",
    "        break\n",
    "    \n",
    "    if len(player_two.all_cards) == 0:\n",
    "        print(\"Player Two, out of cards ! Player One Wins\")\n",
    "        game_on = False\n",
    "        break\n",
    "    \n",
    "    #start a new round\n",
    "    player_one_cards = []\n",
    "    player_one_cards.append(player_one.remove_one())\n",
    "\n",
    "    player_two_cards = []\n",
    "    player_two_cards.append(player_two.remove_one())\n",
    "\n",
    "    at_war = True\n",
    "\n",
    "    while at_war:\n",
    "\n",
    "        if player_one_cards[-1].value > player_two_cards[-1].value:\n",
    "            \n",
    "            player_one.add_cards(player_one_cards)\n",
    "            player_one.add_cards(player_two_cards)\n",
    "\n",
    "            at_war = False\n",
    "\n",
    "        elif player_one_cards[-1].value < player_two_cards[-1].value:\n",
    "            \n",
    "            player_two.add_cards(player_one_cards)\n",
    "            player_two.add_cards(player_two_cards)\n",
    "\n",
    "            at_war = False\n",
    "\n",
    "        else :\n",
    "            print(\"WAR!\")\n",
    "\n",
    "            if len (player_one.all_cards) < 5:\n",
    "                print(\"Player One unable to declare war\")\n",
    "                print(\"Player Two Wins!\")\n",
    "                game_on = False\n",
    "                break\n",
    "            \n",
    "            elif len ( player_two.all_cards) < 5:\n",
    "                print(\"Player Two unable to declare war\")\n",
    "                print(\"Player Two Wins!\")\n",
    "                game_on = False\n",
    "                break\n",
    "\n",
    "            else:\n",
    "                for num in range(5):\n",
    "                    player_one_cards.append(player_one.remove_one())\n",
    "                    player_two_cards.append(player_two.remove_one())\n",
    "        \n",
    "\n",
    "    "
   ]
  }
 ]
}