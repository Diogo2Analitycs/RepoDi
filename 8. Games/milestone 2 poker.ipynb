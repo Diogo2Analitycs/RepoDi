{
 "metadata": {
  "language_info": {
   "codemirror_mode": {
    "name": "ipython",
    "version": 3
   },
   "file_extension": ".py",
   "mimetype": "text/x-python",
   "name": "python",
   "nbconvert_exporter": "python",
   "pygments_lexer": "ipython3",
   "version": "3.7.6"
  },
  "orig_nbformat": 4,
  "kernelspec": {
   "name": "python3",
   "display_name": "Python 3.7.6 64-bit ('Diogo Martins': virtualenv)"
  },
  "interpreter": {
   "hash": "6a2dc1547a5b7de0570cc0f86d4f38b63e9c1467fc18e68fa84315426413fdce"
  }
 },
 "nbformat": 4,
 "nbformat_minor": 2,
 "cells": [
  {
   "cell_type": "code",
   "execution_count": null,
   "metadata": {},
   "outputs": [],
   "source": [
    "dealer and human player\n"
   ]
  },
  {
   "cell_type": "code",
   "execution_count": 1,
   "metadata": {},
   "outputs": [
    {
     "output_type": "error",
     "ename": "SyntaxError",
     "evalue": "invalid syntax (<ipython-input-1-429e9d91b719>, line 1)",
     "traceback": [
      "\u001b[1;36m  File \u001b[1;32m\"<ipython-input-1-429e9d91b719>\"\u001b[1;36m, line \u001b[1;32m1\u001b[0m\n\u001b[1;33m    dealer and human player\u001b[0m\n\u001b[1;37m                          ^\u001b[0m\n\u001b[1;31mSyntaxError\u001b[0m\u001b[1;31m:\u001b[0m invalid syntax\n"
     ]
    }
   ],
   "source": [
    "dealer and human player\n",
    "\n",
    "amount of money to start \n",
    "\n",
    "deck 52 cards\n",
    "    dealer 1 carta para cima outra para Baixo~\n",
    "    jogador 2 cartas para cima\n",
    "\n",
    "player goes first\n",
    "\n",
    "objecvtivo 21\n",
    "    hit or Stay input hit\n",
    "    somar até 21\n",
    "\n",
    "bust = over 21\n",
    "\n",
    "alterantivas \n",
    "    computer ganhar \n",
    "    human player\n",
    "    tie\n",
    "double money to bank\n",
    "\n",
    "\n",
    "face cards = 10\n",
    "ace can either 1 or 11\n"
   ]
  },
  {
   "cell_type": "code",
   "execution_count": null,
   "metadata": {},
   "outputs": [],
   "source": []
  }
 ]
}