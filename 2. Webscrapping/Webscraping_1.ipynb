{
 "cells": [
  {
   "cell_type": "markdown",
   "metadata": {},
   "source": [
    "___\n",
    "\n",
    "<a href='https://www.udemy.com/user/joseportilla/'><img src='../Pierian_Data_Logo.png'/></a>\n",
    "___\n",
    "<center><em>Content Copyright by Pierian Data</em></center>"
   ]
  },
  {
   "cell_type": "markdown",
   "metadata": {},
   "source": [
    "# Web Scraping Exercises \n",
    "\n",
    "## Complete the Tasks Below"
   ]
  },
  {
   "cell_type": "markdown",
   "metadata": {},
   "source": [
    "**TASK: Import any libraries you think you'll need to scrape a website.**"
   ]
  },
  {
   "cell_type": "code",
   "execution_count": 4,
   "metadata": {
    "collapsed": true
   },
   "outputs": [],
   "source": [
    "# CODE HERE\r\n",
    "import requests\r\n",
    "import bs4"
   ]
  },
  {
   "cell_type": "code",
   "execution_count": null,
   "metadata": {
    "collapsed": true
   },
   "outputs": [],
   "source": []
  },
  {
   "cell_type": "markdown",
   "metadata": {},
   "source": [
    "**TASK: Use requests library and BeautifulSoup to connect to http://quotes.toscrape.com/ and get the HMTL text from the homepage.**"
   ]
  },
  {
   "cell_type": "code",
   "execution_count": 47,
   "metadata": {
    "collapsed": true
   },
   "outputs": [],
   "source": [
    "# CODE HERE\r\n",
    "url_base = requests.get(\"http://quotes.toscrape.com\")\r\n",
    "soup = bs4.BeautifulSoup(url_base.text,\"lxml\")\r\n",
    "#soup"
   ]
  },
  {
   "cell_type": "markdown",
   "metadata": {},
   "source": [
    "**TASK: Get the names of all the authors on the first page.**"
   ]
  },
  {
   "cell_type": "code",
   "execution_count": 61,
   "metadata": {
    "collapsed": true
   },
   "outputs": [
    {
     "data": {
      "text/plain": [
       "[<small class=\"author\" itemprop=\"author\">Albert Einstein</small>,\n",
       " <small class=\"author\" itemprop=\"author\">J.K. Rowling</small>,\n",
       " <small class=\"author\" itemprop=\"author\">Albert Einstein</small>,\n",
       " <small class=\"author\" itemprop=\"author\">Jane Austen</small>,\n",
       " <small class=\"author\" itemprop=\"author\">Marilyn Monroe</small>,\n",
       " <small class=\"author\" itemprop=\"author\">Albert Einstein</small>,\n",
       " <small class=\"author\" itemprop=\"author\">André Gide</small>,\n",
       " <small class=\"author\" itemprop=\"author\">Thomas A. Edison</small>,\n",
       " <small class=\"author\" itemprop=\"author\">Eleanor Roosevelt</small>,\n",
       " <small class=\"author\" itemprop=\"author\">Steve Martin</small>]"
      ]
     },
     "execution_count": 61,
     "metadata": {},
     "output_type": "execute_result"
    }
   ],
   "source": [
    "# CODE HERE\r\n",
    "authors = soup.select(\".author\") #[0].getText()\r\n",
    "authors\r\n"
   ]
  },
  {
   "cell_type": "code",
   "execution_count": 101,
   "metadata": {},
   "outputs": [
    {
     "data": {
      "text/plain": [
       "['Albert Einstein',\n",
       " 'J.K. Rowling',\n",
       " 'Jane Austen',\n",
       " 'Marilyn Monroe',\n",
       " 'André Gide',\n",
       " 'Thomas A. Edison',\n",
       " 'Eleanor Roosevelt',\n",
       " 'Steve Martin']"
      ]
     },
     "execution_count": 101,
     "metadata": {},
     "output_type": "execute_result"
    }
   ],
   "source": [
    "authors_name = []\r\n",
    "for n in authors:\r\n",
    "    if n.getText() not in authors_name:\r\n",
    "        authors_name.append(n.getText())\r\n",
    "authors_name"
   ]
  },
  {
   "cell_type": "markdown",
   "metadata": {},
   "source": [
    "**TASK: Create a list of all the quotes on the first page.**"
   ]
  },
  {
   "cell_type": "code",
   "execution_count": 73,
   "metadata": {
    "collapsed": true
   },
   "outputs": [
    {
     "data": {
      "text/plain": [
       "'“The world as we have created it is a process of our thinking. It cannot be changed without changing our thinking.”'"
      ]
     },
     "execution_count": 73,
     "metadata": {},
     "output_type": "execute_result"
    }
   ],
   "source": [
    "#CODE HERE\r\n",
    "quote = soup.select(\".text\")\r\n",
    "quote[0].getText()\r\n",
    "\r\n"
   ]
  },
  {
   "cell_type": "code",
   "execution_count": 74,
   "metadata": {},
   "outputs": [
    {
     "data": {
      "text/plain": [
       "['“The world as we have created it is a process of our thinking. It cannot be changed without changing our thinking.”',\n",
       " '“It is our choices, Harry, that show what we truly are, far more than our abilities.”',\n",
       " '“There are only two ways to live your life. One is as though nothing is a miracle. The other is as though everything is a miracle.”',\n",
       " '“The person, be it gentleman or lady, who has not pleasure in a good novel, must be intolerably stupid.”',\n",
       " \"“Imperfection is beauty, madness is genius and it's better to be absolutely ridiculous than absolutely boring.”\",\n",
       " '“Try not to become a man of success. Rather become a man of value.”',\n",
       " '“It is better to be hated for what you are than to be loved for what you are not.”',\n",
       " \"“I have not failed. I've just found 10,000 ways that won't work.”\",\n",
       " \"“A woman is like a tea bag; you never know how strong it is until it's in hot water.”\",\n",
       " '“A day without sunshine is like, you know, night.”']"
      ]
     },
     "execution_count": 74,
     "metadata": {},
     "output_type": "execute_result"
    }
   ],
   "source": [
    "quotes = []\r\n",
    "for n in quote:\r\n",
    "    quotes.append(n.getText())\r\n",
    "quotes"
   ]
  },
  {
   "cell_type": "markdown",
   "metadata": {},
   "source": [
    "**TASK: Inspect the site and use Beautiful Soup to extract the top ten tags from the requests text shown on the top right from the home page (e.g Love,Inspirational,Life, etc...). HINT: Keep in mind there are also tags underneath each quote, try to find a class only present in the top right tags, perhaps check the span.**"
   ]
  },
  {
   "cell_type": "code",
   "execution_count": 115,
   "metadata": {
    "collapsed": true
   },
   "outputs": [
    {
     "name": "stdout",
     "output_type": "stream",
     "text": [
      "\n",
      "love\n",
      "\n",
      "\n",
      "inspirational\n",
      "\n",
      "\n",
      "life\n",
      "\n",
      "\n",
      "humor\n",
      "\n",
      "\n",
      "books\n",
      "\n",
      "\n",
      "reading\n",
      "\n",
      "\n",
      "friendship\n",
      "\n",
      "\n",
      "friends\n",
      "\n",
      "\n",
      "truth\n",
      "\n",
      "\n",
      "simile\n",
      "\n"
     ]
    }
   ],
   "source": [
    "# CODE HERE\r\n",
    "top_tags = soup.select(\".tag-item\")\r\n",
    "#top_tags\r\n",
    "\r\n",
    "for n in soup.select(\".tag-item\"):\r\n",
    "   print(n.getText())"
   ]
  },
  {
   "cell_type": "markdown",
   "metadata": {},
   "source": [
    "**TASK: Notice how there is more than one page, and subsequent pages look like this http://quotes.toscrape.com/page/2/. Use what you know about for loops and string concatenation to loop through all the pages and get all the unique authors on the website. Keep in mind there are many ways to achieve this, also note that you will need to somehow figure out how to check that your loop is on the last page with quotes. For debugging purposes, I will let you know that there are only 10 pages, so the last page is http://quotes.toscrape.com/page/10/, but try to create a loop that is robust enough that it wouldn't matter to know the amount of pages beforehand, perhaps use try/except for this, its up to you!**"
   ]
  },
  {
   "cell_type": "code",
   "execution_count": 158,
   "metadata": {},
   "outputs": [
    {
     "data": {
      "text/plain": [
       "True"
      ]
     },
     "execution_count": 158,
     "metadata": {},
     "output_type": "execute_result"
    }
   ],
   "source": [
    "url_base_pages =\"https://quotes.toscrape.com/page/{}/\"\r\n",
    "pages = url_base_pages.format(12)\r\n",
    "requests.get(pages)\r\n",
    "soup = bs4.BeautifulSoup(requests.get(pages).text,\"lxml\")\r\n",
    "teste = [] == soup.select(\".text\")\r\n",
    "teste\r\n"
   ]
  },
  {
   "cell_type": "code",
   "execution_count": 160,
   "metadata": {},
   "outputs": [
    {
     "name": "stdout",
     "output_type": "stream",
     "text": [
      "11\n"
     ]
    }
   ],
   "source": [
    "url_base_pages =\"https://quotes.toscrape.com/page/{}/\"\r\n",
    "\r\n",
    "for n in range(1,200):\r\n",
    "    pages = url_base_pages.format(n)\r\n",
    "    requests.get(pages)\r\n",
    "    soup = bs4.BeautifulSoup(requests.get(pages).text,\"lxml\")\r\n",
    "    test = [] == soup.select(\".text\")\r\n",
    "    if test == True:\r\n",
    "        print(n)\r\n",
    "        break\r\n",
    "\r\n"
   ]
  },
  {
   "cell_type": "code",
   "execution_count": 161,
   "metadata": {
    "collapsed": true
   },
   "outputs": [
    {
     "name": "stdout",
     "output_type": "stream",
     "text": [
      "11\n"
     ]
    },
    {
     "data": {
      "text/plain": [
       "['Albert Einstein',\n",
       " 'J.K. Rowling',\n",
       " 'Jane Austen',\n",
       " 'Marilyn Monroe',\n",
       " 'André Gide',\n",
       " 'Thomas A. Edison',\n",
       " 'Eleanor Roosevelt',\n",
       " 'Steve Martin',\n",
       " 'Bob Marley',\n",
       " 'Dr. Seuss',\n",
       " 'Douglas Adams',\n",
       " 'Elie Wiesel',\n",
       " 'Friedrich Nietzsche',\n",
       " 'Mark Twain',\n",
       " 'Allen Saunders',\n",
       " 'Pablo Neruda',\n",
       " 'Ralph Waldo Emerson',\n",
       " 'Mother Teresa',\n",
       " 'Garrison Keillor',\n",
       " 'Jim Henson',\n",
       " 'Charles M. Schulz',\n",
       " 'William Nicholson',\n",
       " 'Jorge Luis Borges',\n",
       " 'George Eliot',\n",
       " 'George R.R. Martin',\n",
       " 'C.S. Lewis',\n",
       " 'Martin Luther King Jr.',\n",
       " 'James Baldwin',\n",
       " 'Haruki Murakami',\n",
       " 'Alexandre Dumas fils',\n",
       " 'Stephenie Meyer',\n",
       " 'Ernest Hemingway',\n",
       " 'Helen Keller',\n",
       " 'George Bernard Shaw',\n",
       " 'Charles Bukowski',\n",
       " 'Suzanne Collins',\n",
       " 'J.R.R. Tolkien',\n",
       " 'Alfred Tennyson',\n",
       " 'Terry Pratchett',\n",
       " 'J.D. Salinger',\n",
       " 'George Carlin',\n",
       " 'John Lennon',\n",
       " 'W.C. Fields',\n",
       " 'Ayn Rand',\n",
       " 'Jimi Hendrix',\n",
       " 'J.M. Barrie',\n",
       " 'E.E. Cummings',\n",
       " 'Khaled Hosseini',\n",
       " 'Harper Lee',\n",
       " \"Madeleine L'Engle\"]"
      ]
     },
     "execution_count": 161,
     "metadata": {},
     "output_type": "execute_result"
    }
   ],
   "source": [
    "# CODE HERE\r\n",
    "\r\n",
    "url_base_pages =\"https://quotes.toscrape.com/page/{}/\"\r\n",
    "authors_name1 = []\r\n",
    "\r\n",
    "\r\n",
    "\r\n",
    "\r\n",
    "\r\n",
    "for n in range(1,200):\r\n",
    "    pages = url_base_pages.format(n)\r\n",
    "    requests.get(pages)\r\n",
    "    soup = bs4.BeautifulSoup(requests.get(pages).text,\"lxml\")\r\n",
    "\r\n",
    "    test = [] == soup.select(\".text\")\r\n",
    "    if test == True:\r\n",
    "        print(n)\r\n",
    "        break\r\n",
    "    \r\n",
    "    for n in soup.select(\".author\"):\r\n",
    "        if n.getText() not in authors_name1:\r\n",
    "            authors_name1.append(n.getText())\r\n",
    "\r\n",
    "\r\n",
    "\r\n",
    "\r\n",
    "\r\n",
    "authors_name1\r\n",
    "\r\n",
    "    \r\n",
    "\r\n",
    "    "
   ]
  },
  {
   "cell_type": "markdown",
   "metadata": {},
   "source": [
    "There are lots of other potential solutions that are even more robust and flexible, the main idea is the same though, use a while loop to cycle through potential pages and have a break condition based on the invalid page."
   ]
  }
 ],
 "metadata": {
  "interpreter": {
   "hash": "b0f97e9baafc0013a01ac34987f5c931a72a1e257e7bf46e9ed2219078c3e6e7"
  },
  "kernelspec": {
   "display_name": "Python 3.9.2 64-bit",
   "name": "python3"
  },
  "language_info": {
   "codemirror_mode": {
    "name": "ipython",
    "version": 3
   },
   "file_extension": ".py",
   "mimetype": "text/x-python",
   "name": "python",
   "nbconvert_exporter": "python",
   "pygments_lexer": "ipython3",
   "version": "3.9.2"
  }
 },
 "nbformat": 4,
 "nbformat_minor": 2
}