{
 "cells": [
  {
   "cell_type": "code",
   "execution_count": 2,
   "source": [
    "# TensorFlow and tf.keras\r\n",
    "import tensorflow as tf\r\n",
    "\r\n",
    "# Helper libraries\r\n",
    "import numpy as np\r\n",
    "import matplotlib.pyplot as plt\r\n",
    "\r\n",
    "print(tf.__version__)\r\n",
    "\r\n",
    "import cv2\r\n",
    "import numpy as np\r\n",
    "import os\r\n",
    "from random import shuffle\r\n",
    "from tqdm import tqdm\r\n",
    "\r\n",
    "\r\n",
    "print(\"packages loaded\")"
   ],
   "outputs": [
    {
     "output_type": "stream",
     "name": "stdout",
     "text": [
      "2.5.0\n",
      "packages loaded\n"
     ]
    }
   ],
   "metadata": {}
  },
  {
   "cell_type": "code",
   "execution_count": 3,
   "source": [
    "TRAIN_DIR = r\"C:\\Users\\DataScienceBoy\\Documents\\Dataset\\dog_Cat\\train\\train\"\r\n",
    "TEST_DIR = r\"C:\\Users\\DataScienceBoy\\Documents\\Dataset\\dog_Cat\\test\\test\"\r\n",
    "IMG_SIZE = 50\r\n",
    "LR = 1e-3\r\n",
    "\r\n",
    "MODEL_NAME = 'dogsvscats-{}-{}.model'.format(LR, '2conv-basic')"
   ],
   "outputs": [],
   "metadata": {}
  },
  {
   "cell_type": "code",
   "execution_count": 11,
   "source": [
    "def label_img(img):\r\n",
    "    word_label = img.split(\".\")[-3]\r\n",
    "    if word_label == \"cat\" : return [1,0]\r\n",
    "    elif word_label == \"dog\" : return [0,1]"
   ],
   "outputs": [],
   "metadata": {}
  },
  {
   "cell_type": "code",
   "execution_count": 12,
   "source": [
    "def create_train_data():\r\n",
    "    training_data = []\r\n",
    "    for img in tqdm(os.listdir(TRAIN_DIR)):\r\n",
    "        label = label_img(img)\r\n",
    "        path = os.path.join(TRAIN_DIR,img).replace(\"\\\\\",\"/\")\r\n",
    "        img = cv2.imread(path,cv2.IMREAD_GRAYSCALE)\r\n",
    "        img = cv2.resize(img, (IMG_SIZE,IMG_SIZE))\r\n",
    "        training_data.append([np.array(img),np.array(label)])\r\n",
    "    shuffle(training_data)\r\n",
    "    np.save('train_data.npy', training_data)\r\n",
    "    return training_data"
   ],
   "outputs": [],
   "metadata": {}
  },
  {
   "cell_type": "code",
   "execution_count": 13,
   "source": [
    "def process_test_data():\r\n",
    "    testing_data = []\r\n",
    "    for img in tqdm(os.listdir(TEST_DIR)):\r\n",
    "        path = os.path.join(TEST_DIR,img).replace(\"\\\\\",\"/\")\r\n",
    "        img_num = img.split('.')[0]\r\n",
    "        img = cv2.imread(path,cv2.IMREAD_GRAYSCALE)\r\n",
    "        img = cv2.resize(img, (IMG_SIZE,IMG_SIZE))\r\n",
    "        testing_data.append([np.array(img), img_num])\r\n",
    "        \r\n",
    "    shuffle(testing_data)\r\n",
    "    np.save('test_data.npy', testing_data)\r\n",
    "    return testing_data"
   ],
   "outputs": [],
   "metadata": {}
  },
  {
   "cell_type": "code",
   "execution_count": 14,
   "source": [
    "train_data = create_train_data()\r\n",
    "# If you have already created the dataset:\r\n",
    "#train_data = np.load('train_data.npy')"
   ],
   "outputs": [
    {
     "output_type": "stream",
     "name": "stderr",
     "text": [
      "100%|██████████| 25000/25000 [07:59<00:00, 52.18it/s]\n",
      "C:\\Users\\Hélio Baptista Alho\\AppData\\Local\\Programs\\Python\\Python39\\lib\\site-packages\\numpy\\core\\_asarray.py:136: VisibleDeprecationWarning: Creating an ndarray from ragged nested sequences (which is a list-or-tuple of lists-or-tuples-or ndarrays with different lengths or shapes) is deprecated. If you meant to do this, you must specify 'dtype=object' when creating the ndarray\n",
      "  return array(a, dtype, copy=False, order=order, subok=True)\n"
     ]
    }
   ],
   "metadata": {}
  },
  {
   "cell_type": "code",
   "execution_count": null,
   "source": [],
   "outputs": [],
   "metadata": {}
  }
 ],
 "metadata": {
  "interpreter": {
   "hash": "b0f97e9baafc0013a01ac34987f5c931a72a1e257e7bf46e9ed2219078c3e6e7"
  },
  "kernelspec": {
   "display_name": "Python 3.9.2 64-bit",
   "name": "python3"
  },
  "language_info": {
   "codemirror_mode": {
    "name": "ipython",
    "version": 3
   },
   "file_extension": ".py",
   "mimetype": "text/x-python",
   "name": "python",
   "nbconvert_exporter": "python",
   "pygments_lexer": "ipython3",
   "version": "3.9.2"
  },
  "orig_nbformat": 4
 },
 "nbformat": 4,
 "nbformat_minor": 2
}