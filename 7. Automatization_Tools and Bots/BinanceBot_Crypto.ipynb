{
 "cells": [
  {
   "cell_type": "code",
   "execution_count": 6,
   "metadata": {},
   "outputs": [
    {
     "output_type": "stream",
     "name": "stdout",
     "text": [
      "logged in\n"
     ]
    }
   ],
   "source": [
    "#imports\n",
    "import pandas as pd\n",
    "from binance.client import Client\n",
    "import time\n",
    "print(\"logged in\")"
   ]
  },
  {
   "cell_type": "code",
   "execution_count": 7,
   "metadata": {},
   "outputs": [],
   "source": [
    "# API Keys and Log in\n",
    "\n",
    "api_key = \"insert your api\"\n",
    "api_secret = \"insert your api\"\n",
    "client = Client(api_key, api_secret)"
   ]
  },
  {
   "cell_type": "code",
   "execution_count": 3,
   "metadata": {},
   "outputs": [
    {
     "output_type": "execute_result",
     "data": {
      "text/plain": [
       "        symbol           price\n",
       "31    SNGLSBTC      0.00000045\n",
       "398     RVNBTC      0.00000404\n",
       "695     BTCEUR  49819.83000000\n",
       "696     ETHEUR   1553.16000000\n",
       "698     XRPEUR      0.44476000\n",
       "1271   DOGEEUR      0.04995000"
      ],
      "text/html": "<div>\n<style scoped>\n    .dataframe tbody tr th:only-of-type {\n        vertical-align: middle;\n    }\n\n    .dataframe tbody tr th {\n        vertical-align: top;\n    }\n\n    .dataframe thead th {\n        text-align: right;\n    }\n</style>\n<table border=\"1\" class=\"dataframe\">\n  <thead>\n    <tr style=\"text-align: right;\">\n      <th></th>\n      <th>symbol</th>\n      <th>price</th>\n    </tr>\n  </thead>\n  <tbody>\n    <tr>\n      <th>31</th>\n      <td>SNGLSBTC</td>\n      <td>0.00000045</td>\n    </tr>\n    <tr>\n      <th>398</th>\n      <td>RVNBTC</td>\n      <td>0.00000404</td>\n    </tr>\n    <tr>\n      <th>695</th>\n      <td>BTCEUR</td>\n      <td>49819.83000000</td>\n    </tr>\n    <tr>\n      <th>696</th>\n      <td>ETHEUR</td>\n      <td>1553.16000000</td>\n    </tr>\n    <tr>\n      <th>698</th>\n      <td>XRPEUR</td>\n      <td>0.44476000</td>\n    </tr>\n    <tr>\n      <th>1271</th>\n      <td>DOGEEUR</td>\n      <td>0.04995000</td>\n    </tr>\n  </tbody>\n</table>\n</div>"
     },
     "metadata": {},
     "execution_count": 3
    }
   ],
   "source": [
    "#Price for all selected coins\n",
    "\n",
    "Coins = [\"BTCEUR\",\"BTCUSD\",\"ETHEUR\",\"XRPEUR\",\"DOGEEUR\",\"SNGLSBTC\",\"RVNUSD\"]\n",
    "\n",
    "All_Tickets = pd.DataFrame.from_dict(client.get_all_tickers())\n",
    "All_Tickets.loc[(All_Tickets[\"symbol\"] == \"BTCEUR\") | (All_Tickets[\"symbol\"] == \"BTCUSD\") | \n",
    "                (All_Tickets[\"symbol\"] == \"ETHEUR\") | (All_Tickets[\"symbol\"] == \"XRPEUR\") |\n",
    "                (All_Tickets[\"symbol\"] == \"DOGEEUR\") | (All_Tickets[\"symbol\"] == \"SNGLSBTC\") |\n",
    "                (All_Tickets[\"symbol\"] == \"RVNBTC\")]\n",
    "\n",
    "\n"
   ]
  },
  {
   "cell_type": "code",
   "execution_count": 5,
   "metadata": {},
   "outputs": [],
   "source": [
    "#Balance geral\n",
    "\n",
    "info = client.get_account()\n",
    "\n",
    "#Balance of existing coins\n",
    "\n",
    "Account_Balance = pd.DataFrame.from_dict(info[\"balances\"])[pd.DataFrame.from_dict(info[\"balances\"])[\"free\"].astype(float) > 0 ]\n",
    "Account_Balance\n",
    "\n",
    "#BTC Coin Amount Values\n",
    "Coin_BTC_Amount = float(Account_Balance[\"free\"][Account_Balance[\"asset\"] == \"BTC\"])\n",
    "\n"
   ]
  },
  {
   "cell_type": "code",
   "execution_count": 8,
   "metadata": {},
   "outputs": [
    {
     "output_type": "stream",
     "name": "stdout",
     "text": [
      "bought 49.00000000\n",
      "78    0.00000267\n",
      "Name: price, dtype: object\n",
      "1\n",
      "2\n"
     ]
    }
   ],
   "source": [
    "#Setup\n",
    "\n",
    "Amount_Invested = 0.00010410\n",
    "Profit_Margin = 1.1\n",
    "Coin_Purchased = \"REQ\"\n",
    "\n",
    "#--------------------------------------------------------------------------------#\n",
    "\n",
    "\n",
    "Coin_type = \"BTC\"\n",
    "CP_CT = (Coin_Purchased + Coin_type).upper()\n",
    "\n",
    "All_Tickets = pd.DataFrame.from_dict(client.get_all_tickers())\n",
    "CP_Price = All_Tickets[\"price\"].loc[(All_Tickets[\"symbol\"] == CP_CT)] \n",
    "Coin_to_Buy = round(Amount_Invested / float(CP_Price),0) + 10\n",
    "\n",
    "#Order Buy\n",
    "\n",
    "order = client.order_market_buy(\n",
    "    symbol = CP_CT,\n",
    "    quantity = Coin_to_Buy)\n",
    "print(\"bought {:.8f}\".format(Coin_to_Buy))\n",
    "print(CP_Price)\n",
    "\n",
    "\n",
    "time.sleep(1)\n",
    "print(\"1\")\n",
    "time.sleep(1)\n",
    "print(\"2\")\n",
    "#profit margin\n",
    "\n",
    "Coin_to_Buy = round(Amount_Invested / float(CP_Price),0) \n",
    "Margin = float(CP_Price)*Profit_Margin\n",
    "\n",
    "#Check balance\n",
    "info = client.get_account()\n",
    "Account_Balance = pd.DataFrame.from_dict(info[\"balances\"])[pd.DataFrame.from_dict(info[\"balances\"])[\"free\"].astype(float) > 0 ]\n",
    "Coin_Amount_Balance = float(Account_Balance[\"free\"][Account_Balance[\"asset\"] == Coin_Purchased])\n",
    "Coin_Amount_Buy = round(Coin_Amount_Balance,0)-1\n",
    "\n",
    "\n",
    "\n",
    "#Limit Sell\n",
    "order = client.order_limit_sell(\n",
    "    symbol= CP_CT ,\n",
    "    quantity= Coin_Amount_Buy ,\n",
    "    price= \"{:.8f}\".format(Margin))\n",
    "\n"
   ]
  },
  {
   "cell_type": "code",
   "execution_count": null,
   "metadata": {},
   "outputs": [],
   "source": []
  }
 ],
 "metadata": {
  "kernelspec": {
   "display_name": "Python 3",
   "language": "python",
   "name": "python3"
  },
  "language_info": {
   "codemirror_mode": {
    "name": "ipython",
    "version": 3
   },
   "file_extension": ".py",
   "mimetype": "text/x-python",
   "name": "python",
   "nbconvert_exporter": "python",
   "pygments_lexer": "ipython3",
   "version": "3.8.5-final"
  }
 },
 "nbformat": 4,
 "nbformat_minor": 4
}